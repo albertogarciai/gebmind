{
 "cells": [
  {
   "cell_type": "markdown",
   "id": "89e84390",
   "metadata": {},
   "source": [
    "# gebmind.ipynb\n",
    "\n",
    "Mapas e integración de predicciones."
   ]
  },
  {
   "cell_type": "code",
   "execution_count": null,
   "id": "14ea4494",
   "metadata": {},
   "outputs": [],
   "source": [
    "import pandas as pd\n",
    "import joblib\n",
    "import folium\n",
    "\n",
    "PROC_CSV = 'googlemaps/data/MAPS_locales_procesado.csv'\n",
    "MODEL_PATH = 'models/rf_classifier.pkl'\n",
    "\n",
    "df = pd.read_csv(PROC_CSV)\n",
    "clf = joblib.load(MODEL_PATH)\n",
    "\n",
    "feature_cols = ['latitud','longitud','categoria_negocio','dist_city_center_km',\n",
    "                'density_500m','density_1000m','density_2000m','ratio_500m_2km','cluster_zone'] + list(names)\n",
    "df['pred_clase'] = clf.predict(df[feature_cols])\n",
    "df['pred_proba'] = clf.predict_proba(df[feature_cols]).max(axis=1)\n",
    "\n",
    "city_center = (40.4168, -3.7038)\n",
    "m = folium.Map(location=city_center, zoom_start=12)\n",
    "colors = {'baja':'red','media':'orange','alta':'green'}\n",
    "for _, r in df.iterrows():\n",
    "    folium.CircleMarker(location=(r.latitud, r.longitud), radius=4,\n",
    "                        color=colors[r.pred_clase], fill=True,\n",
    "                        fill_color=colors[r.pred_clase], fill_opacity=0.7,\n",
    "                        popup=f\"ID: {r.id_local}<br>Clase: {r.pred_clase} ({r.pred_proba:.2f})<br>Cat: {r.categoria_negocio}\"\n",
    "                       ).add_to(m)\n",
    "m"
   ]
  }
 ],
 "metadata": {},
 "nbformat": 4,
 "nbformat_minor": 5
}
