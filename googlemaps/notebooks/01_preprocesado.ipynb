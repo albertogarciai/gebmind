{
 "cells": [
  {
   "cell_type": "markdown",
   "id": "729c3080",
   "metadata": {},
   "source": [
    "# 01_preprocesado.ipynb\n",
    "\n",
    "ETL y feature engineering."
   ]
  },
  {
   "cell_type": "code",
   "execution_count": null,
   "id": "d8762c73",
   "metadata": {},
   "outputs": [],
   "source": [
    "import pandas as pd\n",
    "import numpy as np\n",
    "from haversine import haversine\n",
    "from sklearn.neighbors import BallTree\n",
    "from sklearn.cluster import DBSCAN\n",
    "from sklearn.preprocessing import PolynomialFeatures\n",
    "\n",
    "RAW_CSV  = 'googlemaps/data/locales_todos.csv'\n",
    "PROC_CSV = 'googlemaps/data/MAPS_locales_procesado.csv'\n",
    "\n",
    "df = pd.read_csv(RAW_CSV)\n",
    "\n",
    "# Limpieza básica\n",
    "df = df[df['latitud'].notna() & df['longitud'].notna()]\n",
    "df = df[df['puntuacion_media'].notna() & (df['numero_reviews'] >= 3)]\n",
    "\n",
    "# Feature engineering básico\n",
    "df['valoracion'] = df['puntuacion_media'] * (1 - np.exp(-df['numero_reviews'] / 10))\n",
    "df['valoracion_norm'] = df.groupby('categoria_negocio')['valoracion']     .transform(lambda x: (x - x.min()) / (x.max() - x.min()))\n",
    "\n",
    "# Feature engineering avanzado\n",
    "city_center = (40.4168, -3.7038)\n",
    "df['dist_city_center_km'] = df.apply(lambda r: haversine((r.latitud, r.longitud), city_center), axis=1)\n",
    "coords_rad = np.deg2rad(df[['latitud','longitud']].values)\n",
    "tree = BallTree(coords_rad, metric='haversine')\n",
    "for r_km in [0.5, 1.0, 2.0]:\n",
    "    df[f'density_{int(r_km*1000)}m'] = tree.query_radius(coords_rad, r=r_km/6371.0, count_only=True)\n",
    "df['ratio_500m_2km'] = df['density_500m'] / (df['density_2000m'] + 1)\n",
    "db = DBSCAN(eps=0.5/6371.0, min_samples=10, metric='haversine')\n",
    "df['cluster_zone'] = db.fit_predict(coords_rad).astype(str)\n",
    "poly_feats = ['dist_city_center_km', 'density_1000m']\n",
    "poly = PolynomialFeatures(degree=2, include_bias=False)\n",
    "arr = poly.fit_transform(df[poly_feats])\n",
    "names = poly.get_feature_names_out(poly_feats)\n",
    "poly_df = pd.DataFrame(arr, columns=names, index=df.index)\n",
    "df = pd.concat([df, poly_df], axis=1)\n",
    "\n",
    "# Guardar CSV procesado\n",
    "os.makedirs(os.path.dirname(PROC_CSV), exist_ok=True)\n",
    "df.to_csv(PROC_CSV, index=False)\n",
    "print(\"CSV procesado guardado en:\", PROC_CSV)"
   ]
  }
 ],
 "metadata": {},
 "nbformat": 4,
 "nbformat_minor": 5
}
