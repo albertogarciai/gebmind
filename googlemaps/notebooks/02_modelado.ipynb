{
 "cells": [
  {
   "cell_type": "markdown",
   "id": "1a8ec68e",
   "metadata": {},
   "source": [
    "# 02_modelado.ipynb\n",
    "\n",
    "Modelado y clasificación."
   ]
  },
  {
   "cell_type": "code",
   "execution_count": null,
   "id": "3c80f937",
   "metadata": {},
   "outputs": [],
   "source": [
    "import pandas as pd\n",
    "import numpy as np\n",
    "import matplotlib.pyplot as plt\n",
    "from sklearn.model_selection import train_test_split, cross_val_score, RandomizedSearchCV\n",
    "from sklearn.pipeline import Pipeline\n",
    "from sklearn.compose import ColumnTransformer\n",
    "from sklearn.preprocessing import OneHotEncoder, StandardScaler, label_binarize\n",
    "from sklearn.ensemble import RandomForestClassifier\n",
    "from sklearn.metrics import classification_report, confusion_matrix, accuracy_score, roc_auc_score, roc_curve, auc\n",
    "import joblib\n",
    "from scipy.stats import randint\n",
    "\n",
    "PROC_CSV = 'googlemaps/data/MAPS_locales_procesado.csv'\n",
    "df = pd.read_csv(PROC_CSV)\n",
    "\n",
    "# Preparar datos\n",
    "df['clase_val'] = pd.qcut(df['valoracion_norm'], q=3, labels=['baja','media','alta'])\n",
    "X = df[['latitud','longitud','categoria_negocio','dist_city_center_km',\n",
    "        'density_500m','density_1000m','density_2000m','ratio_500m_2km','cluster_zone'] + list(names)]\n",
    "y = df['clase_val']\n",
    "X_tr, X_te, y_tr, y_te = train_test_split(X, y, test_size=0.2, stratify=y, random_state=42)\n",
    "\n",
    "# Pipeline\n",
    "num_feats = ['latitud','longitud','dist_city_center_km','density_500m','density_1000m','density_2000m','ratio_500m_2km']\n",
    "cat_feats = ['categoria_negocio','cluster_zone']\n",
    "num_pipe = Pipeline([('scaler', StandardScaler())])\n",
    "cat_pipe = Pipeline([('onehot', OneHotEncoder(drop='first', sparse_output=False))])\n",
    "preprocessor = ColumnTransformer([('num', num_pipe, num_feats),('cat', cat_pipe, cat_feats)])\n",
    "clf = Pipeline([('prep', preprocessor),('rf', RandomForestClassifier(n_estimators=100, random_state=42))])\n",
    "\n",
    "# Entrenamiento y evaluación\n",
    "clf.fit(X_tr, y_tr)\n",
    "y_pred = clf.predict(X_te)\n",
    "y_proba = clf.predict_proba(X_te)\n",
    "print(\"Accuracy:\", accuracy_score(y_te, y_pred))\n",
    "print(\"ROC-AUC:\", roc_auc_score(y_te, y_proba, multi_class='ovr'))\n",
    "\n",
    "# Guardar modelo\n",
    "MODEL_PATH = 'models/rf_classifier.pkl'\n",
    "os.makedirs(os.path.dirname(MODEL_PATH), exist_ok=True)\n",
    "joblib.dump(clf, MODEL_PATH)\n",
    "print(\"Modelo guardado en:\", MODEL_PATH)"
   ]
  }
 ],
 "metadata": {},
 "nbformat": 4,
 "nbformat_minor": 5
}
