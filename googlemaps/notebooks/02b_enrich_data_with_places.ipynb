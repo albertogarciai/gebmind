{
 "cells": [
  {
   "cell_type": "code",
   "execution_count": null,
   "id": "564ab753",
   "metadata": {},
   "outputs": [],
   "source": [
    "import pandas as pd\n",
    "import os\n",
    "import googlemaps\n",
    "from dotenv import load_dotenv\n",
    "import time\n",
    "\n",
    "df = pd.read_csv('../data/locales_procesado.csv')"
   ]
  },
  {
   "cell_type": "code",
   "execution_count": null,
   "id": "120f2e7f",
   "metadata": {},
   "outputs": [],
   "source": [
    "load_dotenv()\n",
    "google_api_key = os.getenv(\"GOOGLE_API_KEY\")\n",
    "gmaps = googlemaps.Client(key=google_api_key)"
   ]
  },
  {
   "cell_type": "code",
   "execution_count": null,
   "id": "cfbdcc13",
   "metadata": {},
   "outputs": [],
   "source": [
    "# Agregar nuevas columnas al dataframe\n",
    "df['competencia_count'] = 0\n",
    "df['competencia_rating'] = 0.0\n",
    "\n",
    "for index, row in df.iterrows():\n",
    "    latitude = row['latitud']\n",
    "    longitude = row['longitud']\n",
    "    categoria_negocio = row['tipo_negocio']\n",
    "\n",
    "    try:\n",
    "        places_result = gmaps.places_nearby(\n",
    "            location=(latitude, longitude),\n",
    "            radius=500,\n",
    "            type=categoria_negocio\n",
    "        )\n",
    "\n",
    "        count = len(places_result['results'])\n",
    "        ratings = [place.get('rating') for place in places_result['results'] if 'rating' in place]\n",
    "        avg_rating = sum(ratings) / len(ratings) if ratings else 0.0\n",
    "\n",
    "        df.at[index, 'competencia_count'] = count\n",
    "        df.at[index, 'competencia_rating'] = avg_rating\n",
    "\n",
    "        time.sleep(1)  # Evitar superar el límite de peticiones\n",
    "\n",
    "    except Exception as e:\n",
    "        print(f\"Error en la fila {index}: {e}\")"
   ]
  },
  {
   "cell_type": "code",
   "execution_count": null,
   "id": "aede8303",
   "metadata": {},
   "outputs": [],
   "source": [
    "df.to_csv('locales_enriquecido.csv', index=False)"
   ]
  }
 ],
 "metadata": {
  "kernelspec": {
   "display_name": "evolve",
   "language": "python",
   "name": "python3"
  },
  "language_info": {
   "codemirror_mode": {
    "name": "ipython",
    "version": 3
   },
   "file_extension": ".py",
   "mimetype": "text/x-python",
   "name": "python",
   "nbconvert_exporter": "python",
   "pygments_lexer": "ipython3",
   "version": "3.11.11"
  }
 },
 "nbformat": 4,
 "nbformat_minor": 5
}
