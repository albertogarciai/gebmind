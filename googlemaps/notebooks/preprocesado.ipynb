{
 "cells": [
  {
   "cell_type": "markdown",
   "id": "42664c90",
   "metadata": {},
   "source": [
    "# Preprocesado\n",
    "Este notebook carga los datos raw, los limpia, aplica feature engineering básico y avanzado, y guarda el CSV procesado.\n"
   ]
  },
  {
   "cell_type": "code",
   "execution_count": null,
   "id": "7cfc50d9",
   "metadata": {},
   "outputs": [],
   "source": [
    "# 1. Imports y configuración\n",
    "import pandas as pd\n",
    "import numpy as np\n",
    "from haversine import haversine\n",
    "from sklearn.neighbors import BallTree\n",
    "from sklearn.cluster import DBSCAN\n",
    "from sklearn.preprocessing import PolynomialFeatures\n",
    "\n",
    "# Opcional: carga de config\n",
    "# import yaml\n",
    "# config = yaml.safe_load(open('config.yaml'))\n",
    "# RAW_CSV = config['data']['raw_csv']\n",
    "# PROC_CSV = config['data']['proc_csv']\n",
    "\n",
    "RAW_CSV  = 'googlemaps/data/locales_todos.csv'\n",
    "PROC_CSV = 'googlemaps/data/MAPS_locales_procesado.csv'"
   ]
  },
  {
   "cell_type": "markdown",
   "id": "5cfc207b",
   "metadata": {},
   "source": [
    "## 2. Carga y filtrado\n",
    "- Eliminamos filas sin lat/lon  \n",
    "- Conservamos solo negocios con ≥3 reseñas y puntuación existente\n"
   ]
  },
  {
   "cell_type": "code",
   "execution_count": null,
   "id": "90e9e0ff",
   "metadata": {},
   "outputs": [],
   "source": [
    "df = pd.read_csv(RAW_CSV)\n",
    "# Filtrado\n",
    "df = df[df['latitud'].notna() & df['longitud'].notna()]\n",
    "df = df[df['puntuacion_media'].notna() & (df['numero_reviews'] >= 3)]\n",
    "df.shape, df.head()\n"
   ]
  },
  {
   "cell_type": "markdown",
   "id": "2d5c9a24",
   "metadata": {},
   "source": [
    "## 3. Feature engineering básico\n",
    "- Puntuación ponderada  \n",
    "- Normalización Min–Max por categoría\n"
   ]
  },
  {
   "cell_type": "code",
   "execution_count": null,
   "id": "9bbff02c",
   "metadata": {},
   "outputs": [],
   "source": [
    "# 3.1 Puntuación ponderada\n",
    "df['valoracion'] = df['puntuacion_media'] * (1 - np.exp(-df['numero_reviews'] / 10))\n",
    "\n",
    "# 3.2 Normalización Min–Max por categoría\n",
    "df['valoracion_norm'] = (\n",
    "    df.groupby('categoria_negocio')['valoracion']\n",
    "      .transform(lambda x: (x - x.min()) / (x.max() - x.min()))\n",
    ")\n",
    "\n",
    "df[['valoracion','valoracion_norm']].describe()\n"
   ]
  },
  {
   "cell_type": "markdown",
   "id": "75cd5e2a",
   "metadata": {},
   "source": [
    "## 4. Feature engineering avanzado\n",
    "1. Distancia al centro de la ciudad  \n",
    "2. Densidades a varios radios (500 m, 1 km, 2 km) y ratio  \n",
    "3. Clusterización espacial (DBSCAN)  \n",
    "4. Transformaciones polinómicas e interacciones\n"
   ]
  },
  {
   "cell_type": "code",
   "execution_count": null,
   "id": "4d6313ba",
   "metadata": {},
   "outputs": [],
   "source": [
    "# 4.1 Distancia al centro (Madrid centro)\n",
    "city_center = (40.4168, -3.7038)\n",
    "df['dist_city_center_km'] = df.apply(\n",
    "    lambda r: haversine((r.latitud, r.longitud), city_center), axis=1\n",
    ")\n",
    "\n",
    "# 4.2 Densidades\n",
    "coords_rad = np.deg2rad(df[['latitud','longitud']].values)\n",
    "tree = BallTree(coords_rad, metric='haversine')\n",
    "for r_km in [0.5, 1.0, 2.0]:\n",
    "    col = f'density_{int(r_km*1000)}m'\n",
    "    df[col] = tree.query_radius(coords_rad, r=r_km/6371.0, count_only=True)\n",
    "# Ratio competencia cercana vs amplia\n",
    "df['ratio_500m_2km'] = df['density_500m'] / (df['density_2000m'] + 1)\n",
    "\n",
    "# 4.3 Clusterización DBSCAN\n",
    "db = DBSCAN(eps=0.5/6371.0, min_samples=10, metric='haversine')\n",
    "df['cluster_zone'] = db.fit_predict(coords_rad).astype(str)\n",
    "\n",
    "# 4.4 Polinomios e interacciones\n",
    "poly_feats = ['dist_city_center_km', 'density_1000m']\n",
    "poly = PolynomialFeatures(degree=2, include_bias=False)\n",
    "arr = poly.fit_transform(df[poly_feats])\n",
    "names = poly.get_feature_names_out(poly_feats)\n",
    "poly_df = pd.DataFrame(arr, columns=names, index=df.index)\n",
    "df = pd.concat([df, poly_df], axis=1)\n",
    "\n",
    "# Vista rápida\n",
    "df[['dist_city_center_km','density_500m','density_1000m','ratio_500m_2km','cluster_zone']+list(names)].head()\n"
   ]
  },
  {
   "cell_type": "markdown",
   "id": "581b3177",
   "metadata": {},
   "source": [
    "## 5. Guardado\n",
    "Volcamos el DataFrame resultante a disco para usarlo en modelado.\n"
   ]
  },
  {
   "cell_type": "code",
   "execution_count": null,
   "id": "1482eaa6",
   "metadata": {},
   "outputs": [],
   "source": [
    "df.to_csv(PROC_CSV, index=False)\n",
    "print(\"CSV procesado guardado en:\", PROC_CSV)\n"
   ]
  }
 ],
 "metadata": {
  "kernelspec": {
   "display_name": "evolve",
   "language": "python",
   "name": "python3"
  },
  "language_info": {
   "name": "python",
   "version": "3.11.11"
  }
 },
 "nbformat": 4,
 "nbformat_minor": 5
}
