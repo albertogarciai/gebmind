{
 "cells": [
  {
   "cell_type": "markdown",
   "id": "3ed5eb57",
   "metadata": {},
   "source": [
    "# 📍 Geolocalizador de Negocios por Código Postal\n",
    "Este notebook permite consultar negocios por código postal usando la API de Google Places y visualizar los resultados en un mapa interactivo con Folium."
   ]
  },
  {
   "cell_type": "markdown",
   "id": "2b54d264",
   "metadata": {},
   "source": [
    "## 🔑 Configurar clave de API"
   ]
  },
  {
   "cell_type": "code",
   "execution_count": 12,
   "id": "aa0d7b1c",
   "metadata": {},
   "outputs": [],
   "source": [
    "import os\n",
    "from dotenv import load_dotenv\n",
    "\n",
    "# Carga clave desde .env o asignación directa temporal\n",
    "load_dotenv()\n",
    "API_KEY = os.getenv(\"GOOGLE_API_KEY\")"
   ]
  },
  {
   "cell_type": "markdown",
   "id": "316ed5b0",
   "metadata": {},
   "source": [
    "## ⚙️ Funciones auxiliares"
   ]
  },
  {
   "cell_type": "code",
   "execution_count": 13,
   "id": "fe450a20",
   "metadata": {},
   "outputs": [],
   "source": [
    "import requests\n",
    "import pandas as pd\n",
    "import time\n",
    "\n",
    "def get_coordinates(postal_code):\n",
    "    url = \"https://maps.googleapis.com/maps/api/geocode/json\"\n",
    "    params = {'address': f'{postal_code}, Madrid, Spain', 'key': API_KEY}\n",
    "    response = requests.get(url, params=params).json()\n",
    "    \n",
    "    if response['status'] != 'OK':\n",
    "        raise ValueError(f\"Error al obtener coordenadas para {postal_code}: {response['status']}\")\n",
    "    \n",
    "    result = response['results'][0]\n",
    "    \n",
    "    # Validar que el país devuelto sea España mediante short_name = 'ES'\n",
    "    components = result['address_components']\n",
    "    country_codes = [c['short_name'] for c in components if 'country' in c['types']]\n",
    "    if 'ES' not in country_codes:\n",
    "        raise ValueError(f\"Código postal {postal_code} no está en España (devuelto: {country_codes})\")\n",
    "    \n",
    "    location = result['geometry']['location']\n",
    "    return location['lat'], location['lng']\n",
    "\n",
    "def get_places(lat, lng, radius=2000, business_type=None):\n",
    "    places = []\n",
    "    url = \"https://maps.googleapis.com/maps/api/place/nearbysearch/json\"\n",
    "    params = {\n",
    "        'location': f'{lat},{lng}',\n",
    "        'radius': radius,\n",
    "        'key': API_KEY,\n",
    "        'type': business_type\n",
    "    }\n",
    "\n",
    "    while True:\n",
    "        res = requests.get(url, params=params).json()\n",
    "        places.extend(res.get('results', []))\n",
    "        if 'next_page_token' in res:\n",
    "            time.sleep(2)\n",
    "            params['pagetoken'] = res['next_page_token']\n",
    "        else:\n",
    "            break\n",
    "\n",
    "    return places\n",
    "\n",
    "def clean_data(places, postal_code):\n",
    "    data = []\n",
    "    for p in places:\n",
    "        location = p.get('geometry', {}).get('location', {})\n",
    "        data.append({\n",
    "            'nombre': p.get('name'),\n",
    "            'direccion': p.get('vicinity'),\n",
    "            'codigo_postal': postal_code,\n",
    "            'puntuacion_media': p.get('rating'),\n",
    "            'numero_reviews': p.get('user_ratings_total'),\n",
    "            'tipo_negocio': ', '.join(p.get('types', [])),\n",
    "            'latitud': location.get('lat'),\n",
    "            'longitud': location.get('lng')\n",
    "        })\n",
    "    return pd.DataFrame(data)"
   ]
  },
  {
   "cell_type": "markdown",
   "id": "bf1564ab",
   "metadata": {},
   "source": [
    "## 📦 Consultar locales y exportar CSV"
   ]
  },
  {
   "cell_type": "code",
   "execution_count": null,
   "id": "de1a99a3",
   "metadata": {},
   "outputs": [
    {
     "name": "stdout",
     "output_type": "stream",
     "text": [
      "✅ 60 locales encontrados en 28001\n"
     ]
    }
   ],
   "source": [
    "\n",
    "import time\n",
    "import pandas as pd\n",
    "\n",
    "codigos_postales = ['28001', '28002', '28003', '28004', '28005', '28006', '28007', '28008', '28009',\n",
    "                    '28010', '28011', '28012', '28013', '28014', '28015', '28016', '28017', '28018', '28019',\n",
    "                    '28020', '28021', '28022', '28023', '28024', '28025', '28026', '28027', '28028', '28029',\n",
    "                    '28030', '28031', '28032', '28033', '28034', '28035', '28036', '28037', '28038', '28039',\n",
    "                    '28040', '28041', '28042', '28043', '28044', '28045', '28046', '28047', '28048', '28049',\n",
    "                    '28050', '28051', '28052', '28053', '28054', '28055']\n",
    "tipo_negocio = None  # Puedes especificar un tipo como 'restaurant', 'store', etc.\n",
    "\n",
    "todos_los_locales = pd.DataFrame()\n",
    "\n",
    "for cp in codigos_postales:\n",
    "    try:\n",
    "        lat, lng = get_coordinates(cp)\n",
    "        lugares = get_places(lat, lng, business_type=tipo_negocio)\n",
    "        df = clean_data(lugares, cp)\n",
    "        todos_los_locales = pd.concat([todos_los_locales, df], ignore_index=True)\n",
    "        print(f\"✅ {len(df)} locales encontrados en {cp}\")\n",
    "        time.sleep(1)\n",
    "    except ValueError as e:\n",
    "        print(f\"⚠️ Error de validación con código postal {cp}: {e}\")\n",
    "    except Exception as e:\n",
    "        print(f\"⚠️ Error inesperado con código postal {cp}: {e}\")\n",
    "\n",
    "# Guardar el archivo con el nombre esperado\n",
    "nombre_tipo = tipo_negocio if tipo_negocio else \"todos\"\n",
    "output_file = f\"locales_{nombre_tipo}.csv\"\n",
    "todos_los_locales.to_csv(output_file, index=False)\n",
    "print(f\"\\n✅ Archivo '{output_file}' generado exitosamente.\")\n"
   ]
  },
  {
   "cell_type": "markdown",
   "id": "102afc9b",
   "metadata": {},
   "source": [
    "## 🗺️ Visualizar resultados en mapa interactivo"
   ]
  },
  {
   "cell_type": "code",
   "execution_count": 6,
   "id": "fe96c381",
   "metadata": {},
   "outputs": [
    {
     "ename": "FileNotFoundError",
     "evalue": "[Errno 2] No such file or directory: 'data/locales_todos.csv'",
     "output_type": "error",
     "traceback": [
      "\u001b[0;31m---------------------------------------------------------------------------\u001b[0m",
      "\u001b[0;31mFileNotFoundError\u001b[0m                         Traceback (most recent call last)",
      "Cell \u001b[0;32mIn[6], line 4\u001b[0m\n\u001b[1;32m      1\u001b[0m \u001b[38;5;28;01mimport\u001b[39;00m \u001b[38;5;21;01mfolium\u001b[39;00m\u001b[38;5;21;01m.\u001b[39;00m\u001b[38;5;21;01mplugins\u001b[39;00m \u001b[38;5;28;01mas\u001b[39;00m \u001b[38;5;21;01mplugins\u001b[39;00m\n\u001b[1;32m      2\u001b[0m \u001b[38;5;28;01mimport\u001b[39;00m \u001b[38;5;21;01mfolium\u001b[39;00m\n\u001b[0;32m----> 4\u001b[0m df \u001b[38;5;241m=\u001b[39m pd\u001b[38;5;241m.\u001b[39mread_csv(\u001b[38;5;124m\"\u001b[39m\u001b[38;5;124mdata/locales_todos.csv\u001b[39m\u001b[38;5;124m\"\u001b[39m)\n\u001b[1;32m      5\u001b[0m df \u001b[38;5;241m=\u001b[39m df\u001b[38;5;241m.\u001b[39mdropna(subset\u001b[38;5;241m=\u001b[39m[\u001b[38;5;124m'\u001b[39m\u001b[38;5;124mlatitud\u001b[39m\u001b[38;5;124m'\u001b[39m, \u001b[38;5;124m'\u001b[39m\u001b[38;5;124mlongitud\u001b[39m\u001b[38;5;124m'\u001b[39m])\n\u001b[1;32m      7\u001b[0m mapa \u001b[38;5;241m=\u001b[39m folium\u001b[38;5;241m.\u001b[39mMap(\n\u001b[1;32m      8\u001b[0m     location\u001b[38;5;241m=\u001b[39m[df[\u001b[38;5;124m'\u001b[39m\u001b[38;5;124mlatitud\u001b[39m\u001b[38;5;124m'\u001b[39m]\u001b[38;5;241m.\u001b[39mmean(), df[\u001b[38;5;124m'\u001b[39m\u001b[38;5;124mlongitud\u001b[39m\u001b[38;5;124m'\u001b[39m]\u001b[38;5;241m.\u001b[39mmean()], \n\u001b[1;32m      9\u001b[0m     zoom_start\u001b[38;5;241m=\u001b[39m\u001b[38;5;241m13\u001b[39m,\n\u001b[1;32m     10\u001b[0m     tiles\u001b[38;5;241m=\u001b[39m\u001b[38;5;124m'\u001b[39m\u001b[38;5;124mCartoDB.VoyagerLabelsUnder\u001b[39m\u001b[38;5;124m'\u001b[39m  \u001b[38;5;66;03m# Estilos --> https://leaflet-extras.github.io/leaflet-providers/preview/\u001b[39;00m\n\u001b[1;32m     11\u001b[0m     )\n",
      "File \u001b[0;32m~/miniconda3/envs/evolve/lib/python3.11/site-packages/pandas/io/parsers/readers.py:1026\u001b[0m, in \u001b[0;36mread_csv\u001b[0;34m(filepath_or_buffer, sep, delimiter, header, names, index_col, usecols, dtype, engine, converters, true_values, false_values, skipinitialspace, skiprows, skipfooter, nrows, na_values, keep_default_na, na_filter, verbose, skip_blank_lines, parse_dates, infer_datetime_format, keep_date_col, date_parser, date_format, dayfirst, cache_dates, iterator, chunksize, compression, thousands, decimal, lineterminator, quotechar, quoting, doublequote, escapechar, comment, encoding, encoding_errors, dialect, on_bad_lines, delim_whitespace, low_memory, memory_map, float_precision, storage_options, dtype_backend)\u001b[0m\n\u001b[1;32m   1013\u001b[0m kwds_defaults \u001b[38;5;241m=\u001b[39m _refine_defaults_read(\n\u001b[1;32m   1014\u001b[0m     dialect,\n\u001b[1;32m   1015\u001b[0m     delimiter,\n\u001b[0;32m   (...)\u001b[0m\n\u001b[1;32m   1022\u001b[0m     dtype_backend\u001b[38;5;241m=\u001b[39mdtype_backend,\n\u001b[1;32m   1023\u001b[0m )\n\u001b[1;32m   1024\u001b[0m kwds\u001b[38;5;241m.\u001b[39mupdate(kwds_defaults)\n\u001b[0;32m-> 1026\u001b[0m \u001b[38;5;28;01mreturn\u001b[39;00m _read(filepath_or_buffer, kwds)\n",
      "File \u001b[0;32m~/miniconda3/envs/evolve/lib/python3.11/site-packages/pandas/io/parsers/readers.py:620\u001b[0m, in \u001b[0;36m_read\u001b[0;34m(filepath_or_buffer, kwds)\u001b[0m\n\u001b[1;32m    617\u001b[0m _validate_names(kwds\u001b[38;5;241m.\u001b[39mget(\u001b[38;5;124m\"\u001b[39m\u001b[38;5;124mnames\u001b[39m\u001b[38;5;124m\"\u001b[39m, \u001b[38;5;28;01mNone\u001b[39;00m))\n\u001b[1;32m    619\u001b[0m \u001b[38;5;66;03m# Create the parser.\u001b[39;00m\n\u001b[0;32m--> 620\u001b[0m parser \u001b[38;5;241m=\u001b[39m TextFileReader(filepath_or_buffer, \u001b[38;5;241m*\u001b[39m\u001b[38;5;241m*\u001b[39mkwds)\n\u001b[1;32m    622\u001b[0m \u001b[38;5;28;01mif\u001b[39;00m chunksize \u001b[38;5;129;01mor\u001b[39;00m iterator:\n\u001b[1;32m    623\u001b[0m     \u001b[38;5;28;01mreturn\u001b[39;00m parser\n",
      "File \u001b[0;32m~/miniconda3/envs/evolve/lib/python3.11/site-packages/pandas/io/parsers/readers.py:1620\u001b[0m, in \u001b[0;36mTextFileReader.__init__\u001b[0;34m(self, f, engine, **kwds)\u001b[0m\n\u001b[1;32m   1617\u001b[0m     \u001b[38;5;28mself\u001b[39m\u001b[38;5;241m.\u001b[39moptions[\u001b[38;5;124m\"\u001b[39m\u001b[38;5;124mhas_index_names\u001b[39m\u001b[38;5;124m\"\u001b[39m] \u001b[38;5;241m=\u001b[39m kwds[\u001b[38;5;124m\"\u001b[39m\u001b[38;5;124mhas_index_names\u001b[39m\u001b[38;5;124m\"\u001b[39m]\n\u001b[1;32m   1619\u001b[0m \u001b[38;5;28mself\u001b[39m\u001b[38;5;241m.\u001b[39mhandles: IOHandles \u001b[38;5;241m|\u001b[39m \u001b[38;5;28;01mNone\u001b[39;00m \u001b[38;5;241m=\u001b[39m \u001b[38;5;28;01mNone\u001b[39;00m\n\u001b[0;32m-> 1620\u001b[0m \u001b[38;5;28mself\u001b[39m\u001b[38;5;241m.\u001b[39m_engine \u001b[38;5;241m=\u001b[39m \u001b[38;5;28mself\u001b[39m\u001b[38;5;241m.\u001b[39m_make_engine(f, \u001b[38;5;28mself\u001b[39m\u001b[38;5;241m.\u001b[39mengine)\n",
      "File \u001b[0;32m~/miniconda3/envs/evolve/lib/python3.11/site-packages/pandas/io/parsers/readers.py:1880\u001b[0m, in \u001b[0;36mTextFileReader._make_engine\u001b[0;34m(self, f, engine)\u001b[0m\n\u001b[1;32m   1878\u001b[0m     \u001b[38;5;28;01mif\u001b[39;00m \u001b[38;5;124m\"\u001b[39m\u001b[38;5;124mb\u001b[39m\u001b[38;5;124m\"\u001b[39m \u001b[38;5;129;01mnot\u001b[39;00m \u001b[38;5;129;01min\u001b[39;00m mode:\n\u001b[1;32m   1879\u001b[0m         mode \u001b[38;5;241m+\u001b[39m\u001b[38;5;241m=\u001b[39m \u001b[38;5;124m\"\u001b[39m\u001b[38;5;124mb\u001b[39m\u001b[38;5;124m\"\u001b[39m\n\u001b[0;32m-> 1880\u001b[0m \u001b[38;5;28mself\u001b[39m\u001b[38;5;241m.\u001b[39mhandles \u001b[38;5;241m=\u001b[39m get_handle(\n\u001b[1;32m   1881\u001b[0m     f,\n\u001b[1;32m   1882\u001b[0m     mode,\n\u001b[1;32m   1883\u001b[0m     encoding\u001b[38;5;241m=\u001b[39m\u001b[38;5;28mself\u001b[39m\u001b[38;5;241m.\u001b[39moptions\u001b[38;5;241m.\u001b[39mget(\u001b[38;5;124m\"\u001b[39m\u001b[38;5;124mencoding\u001b[39m\u001b[38;5;124m\"\u001b[39m, \u001b[38;5;28;01mNone\u001b[39;00m),\n\u001b[1;32m   1884\u001b[0m     compression\u001b[38;5;241m=\u001b[39m\u001b[38;5;28mself\u001b[39m\u001b[38;5;241m.\u001b[39moptions\u001b[38;5;241m.\u001b[39mget(\u001b[38;5;124m\"\u001b[39m\u001b[38;5;124mcompression\u001b[39m\u001b[38;5;124m\"\u001b[39m, \u001b[38;5;28;01mNone\u001b[39;00m),\n\u001b[1;32m   1885\u001b[0m     memory_map\u001b[38;5;241m=\u001b[39m\u001b[38;5;28mself\u001b[39m\u001b[38;5;241m.\u001b[39moptions\u001b[38;5;241m.\u001b[39mget(\u001b[38;5;124m\"\u001b[39m\u001b[38;5;124mmemory_map\u001b[39m\u001b[38;5;124m\"\u001b[39m, \u001b[38;5;28;01mFalse\u001b[39;00m),\n\u001b[1;32m   1886\u001b[0m     is_text\u001b[38;5;241m=\u001b[39mis_text,\n\u001b[1;32m   1887\u001b[0m     errors\u001b[38;5;241m=\u001b[39m\u001b[38;5;28mself\u001b[39m\u001b[38;5;241m.\u001b[39moptions\u001b[38;5;241m.\u001b[39mget(\u001b[38;5;124m\"\u001b[39m\u001b[38;5;124mencoding_errors\u001b[39m\u001b[38;5;124m\"\u001b[39m, \u001b[38;5;124m\"\u001b[39m\u001b[38;5;124mstrict\u001b[39m\u001b[38;5;124m\"\u001b[39m),\n\u001b[1;32m   1888\u001b[0m     storage_options\u001b[38;5;241m=\u001b[39m\u001b[38;5;28mself\u001b[39m\u001b[38;5;241m.\u001b[39moptions\u001b[38;5;241m.\u001b[39mget(\u001b[38;5;124m\"\u001b[39m\u001b[38;5;124mstorage_options\u001b[39m\u001b[38;5;124m\"\u001b[39m, \u001b[38;5;28;01mNone\u001b[39;00m),\n\u001b[1;32m   1889\u001b[0m )\n\u001b[1;32m   1890\u001b[0m \u001b[38;5;28;01massert\u001b[39;00m \u001b[38;5;28mself\u001b[39m\u001b[38;5;241m.\u001b[39mhandles \u001b[38;5;129;01mis\u001b[39;00m \u001b[38;5;129;01mnot\u001b[39;00m \u001b[38;5;28;01mNone\u001b[39;00m\n\u001b[1;32m   1891\u001b[0m f \u001b[38;5;241m=\u001b[39m \u001b[38;5;28mself\u001b[39m\u001b[38;5;241m.\u001b[39mhandles\u001b[38;5;241m.\u001b[39mhandle\n",
      "File \u001b[0;32m~/miniconda3/envs/evolve/lib/python3.11/site-packages/pandas/io/common.py:873\u001b[0m, in \u001b[0;36mget_handle\u001b[0;34m(path_or_buf, mode, encoding, compression, memory_map, is_text, errors, storage_options)\u001b[0m\n\u001b[1;32m    868\u001b[0m \u001b[38;5;28;01melif\u001b[39;00m \u001b[38;5;28misinstance\u001b[39m(handle, \u001b[38;5;28mstr\u001b[39m):\n\u001b[1;32m    869\u001b[0m     \u001b[38;5;66;03m# Check whether the filename is to be opened in binary mode.\u001b[39;00m\n\u001b[1;32m    870\u001b[0m     \u001b[38;5;66;03m# Binary mode does not support 'encoding' and 'newline'.\u001b[39;00m\n\u001b[1;32m    871\u001b[0m     \u001b[38;5;28;01mif\u001b[39;00m ioargs\u001b[38;5;241m.\u001b[39mencoding \u001b[38;5;129;01mand\u001b[39;00m \u001b[38;5;124m\"\u001b[39m\u001b[38;5;124mb\u001b[39m\u001b[38;5;124m\"\u001b[39m \u001b[38;5;129;01mnot\u001b[39;00m \u001b[38;5;129;01min\u001b[39;00m ioargs\u001b[38;5;241m.\u001b[39mmode:\n\u001b[1;32m    872\u001b[0m         \u001b[38;5;66;03m# Encoding\u001b[39;00m\n\u001b[0;32m--> 873\u001b[0m         handle \u001b[38;5;241m=\u001b[39m \u001b[38;5;28mopen\u001b[39m(\n\u001b[1;32m    874\u001b[0m             handle,\n\u001b[1;32m    875\u001b[0m             ioargs\u001b[38;5;241m.\u001b[39mmode,\n\u001b[1;32m    876\u001b[0m             encoding\u001b[38;5;241m=\u001b[39mioargs\u001b[38;5;241m.\u001b[39mencoding,\n\u001b[1;32m    877\u001b[0m             errors\u001b[38;5;241m=\u001b[39merrors,\n\u001b[1;32m    878\u001b[0m             newline\u001b[38;5;241m=\u001b[39m\u001b[38;5;124m\"\u001b[39m\u001b[38;5;124m\"\u001b[39m,\n\u001b[1;32m    879\u001b[0m         )\n\u001b[1;32m    880\u001b[0m     \u001b[38;5;28;01melse\u001b[39;00m:\n\u001b[1;32m    881\u001b[0m         \u001b[38;5;66;03m# Binary mode\u001b[39;00m\n\u001b[1;32m    882\u001b[0m         handle \u001b[38;5;241m=\u001b[39m \u001b[38;5;28mopen\u001b[39m(handle, ioargs\u001b[38;5;241m.\u001b[39mmode)\n",
      "\u001b[0;31mFileNotFoundError\u001b[0m: [Errno 2] No such file or directory: 'data/locales_todos.csv'"
     ]
    }
   ],
   "source": [
    "import folium.plugins as plugins\n",
    "import folium\n",
    "\n",
    "df = pd.read_csv(\"data/locales_todos.csv\")\n",
    "df = df.dropna(subset=['latitud', 'longitud'])\n",
    "\n",
    "mapa = folium.Map(\n",
    "    location=[df['latitud'].mean(), df['longitud'].mean()], \n",
    "    zoom_start=13,\n",
    "    tiles='CartoDB.VoyagerLabelsUnder'  # Estilos --> https://leaflet-extras.github.io/leaflet-providers/preview/\n",
    "    )\n",
    "\n",
    "# Añadir MiniMap\n",
    "plugins.MiniMap().add_to(mapa)\n",
    "\n",
    "for _, row in df.iterrows():\n",
    "    popup_text = f\"\"\"\n",
    "    <b>{row['nombre']}</b><br>\n",
    "    Dirección: {row['direccion']}<br>\n",
    "    Rating: {row['puntuacion_media']} ({row['numero_reviews']} reseñas)<br>\n",
    "    Tipo: {row['tipo_negocio']}\n",
    "    \"\"\"\n",
    "    folium.Marker(\n",
    "        location=[row['latitud'], row['longitud']],\n",
    "        icon=plugins.BeautifyIcon(\n",
    "                     icon=\"home\",\n",
    "                     icon_shape=\"circle\",\n",
    "                     border_color='green',\n",
    "                     text_color=\"green\",\n",
    "                     background_color='white'\n",
    "                 ),\n",
    "        popup=folium.Popup(popup_text, max_width=300),\n",
    "        tooltip=row['nombre']\n",
    "    ).add_to(mapa)\n",
    "\n",
    "mapa.save(\"outputs/mapa_locales.html\")\n",
    "mapa\n"
   ]
  },
  {
   "cell_type": "markdown",
   "id": "9dc2184a",
   "metadata": {},
   "source": [
    "### Categorización de tipos de negocio\n",
    "En esta sección se analiza la columna `tipo_negocio` del archivo `locales_todos.csv` para agrupar los locales en 6 categorías generales:\n",
    "- **Restauración**\n",
    "- **Alojamiento**\n",
    "- **Religión / Culto**\n",
    "- **Administración / Localidad**\n",
    "- **Comercio / Servicios**\n",
    "- **Otros / No categorizado**\n",
    "Esto se realiza mediante una función que evalúa palabras clave en cada tipo de negocio y asigna una categoría correspondiente.\n",
    "\n",
    "### Categorización mejorada de tipos de negocio\n",
    "Se han identificado subtipos frecuentes dentro de la categoría 'Otros / No categorizado' y se han creado nuevas agrupaciones:\n",
    "- **Educación**\n",
    "- **Salud**\n",
    "- **Finanzas y Seguros**\n",
    "- **Construcción / Reformas**\n",
    "- **Naturaleza / Recreación**\n",
    "- **Turismo / Atracción**\n",
    "Esto reduce significativamente el número de registros sin categorizar y mejora la calidad del dataset para futuros modelos de Machine Learning."
   ]
  },
  {
   "cell_type": "code",
   "execution_count": null,
   "id": "6c8e3e8d",
   "metadata": {},
   "outputs": [],
   "source": [
    "import pandas as pd\n",
    "\n",
    "df = pd.read_csv('data/locales_todos.csv')\n",
    "\n",
    "def categorizar_negocio(tipo_str):\n",
    "    tipo_str = str(tipo_str).lower()\n",
    "    if any(t in tipo_str for t in ['restaurant', 'food', 'bar', 'cafe', 'bakery', 'meal_takeaway']):\n",
    "        return 'Restauración'\n",
    "    elif any(t in tipo_str for t in ['lodging', 'hotel', 'hostel', 'guest_house']):\n",
    "        return 'Alojamiento'\n",
    "    elif any(t in tipo_str for t in ['church', 'place_of_worship', 'mosque', 'synagogue', 'hindu_temple']):\n",
    "        return 'Religión / Culto'\n",
    "    elif any(t in tipo_str for t in ['locality', 'political', 'city_hall', 'post_office', 'courthouse', 'embassy', 'local_government_office']):\n",
    "        return 'Administración / Localidad'\n",
    "    elif any(t in tipo_str for t in ['store', 'shopping_mall', 'hair_care', 'bank', 'car_repair', 'laundry', 'gym', 'pharmacy', 'doctor', 'real_estate_agency']):\n",
    "        return 'Comercio / Servicios'\n",
    "    elif any(t in tipo_str for t in ['school', 'university', 'secondary_school']):\n",
    "        return 'Educación'\n",
    "    elif any(t in tipo_str for t in ['health']):\n",
    "        return 'Salud'\n",
    "    elif any(t in tipo_str for t in ['finance', 'insurance_agency']):\n",
    "        return 'Finanzas y Seguros'\n",
    "    elif any(t in tipo_str for t in ['general_contractor']):\n",
    "        return 'Construcción / Reformas'\n",
    "    elif any(t in tipo_str for t in ['park']):\n",
    "        return 'Naturaleza / Recreación'\n",
    "    elif any(t in tipo_str for t in ['tourist_attraction']):\n",
    "        return 'Turismo / Atracción'\n",
    "    else:\n",
    "        return 'Otros / No categorizado'\n",
    "\n",
    "df['categoria_negocio'] = df['tipo_negocio'].apply(categorizar_negocio)\n",
    "df.to_csv('data/MAPS_locales_categorizados.csv', index=False)"
   ]
  },
  {
   "cell_type": "markdown",
   "id": "896f6d60",
   "metadata": {},
   "source": [
    "### 🔍 1.1 - Añadir detección de negocio por nombre\n",
    "\n",
    "Ahora que tienes una categorización robusta por tipo_negocio, puedes mejorar la clasificación usando el campo nombre para los que aún están en “Otros”. Por ejemplo:"
   ]
  },
  {
   "cell_type": "code",
   "execution_count": null,
   "id": "1b078ed6",
   "metadata": {},
   "outputs": [],
   "source": [
    "def clasificar_por_nombre(nombre, tipo_actual):\n",
    "    nombre = str(nombre).lower()\n",
    "    if tipo_actual == 'Otros / No categorizado':\n",
    "        if 'bar' in nombre: return 'Restauración'\n",
    "        if 'peluquería' in nombre or 'hair' in nombre: return 'Comercio / Servicios'\n",
    "        if 'taller' in nombre or 'auto' in nombre: return 'Comercio / Servicios'\n",
    "        # ... y así puedes mejorar hasta un 20% más de casos\n",
    "    return tipo_actual\n",
    "\n",
    "df['categoria_negocio'] = df.apply(lambda row: clasificar_por_nombre(row['nombre'], row['categoria_negocio']), axis=1)"
   ]
  },
  {
   "cell_type": "markdown",
   "id": "49e74663",
   "metadata": {},
   "source": [
    "### 🎯 1.2 - Filtrar outliers\n",
    "\n",
    "Elimina negocios con:\n",
    "\t•\tpuntuacion_media nula o 0\n",
    "\t•\tnumero_reviews muy bajo (ej. < 3)\n",
    "Esto limpia el ruido antes de entrenar modelos o hacer visualizaciones."
   ]
  },
  {
   "cell_type": "code",
   "execution_count": null,
   "id": "e073983e",
   "metadata": {},
   "outputs": [],
   "source": [
    "df = df[df['puntuacion_media'].notna() & (df['numero_reviews'] >= 3)]"
   ]
  },
  {
   "cell_type": "markdown",
   "id": "1629c26e",
   "metadata": {},
   "source": [
    "### 📦 1.3 - Guardar checkpoint de trabajo\n",
    "\n",
    "Para no repetir procesos:"
   ]
  },
  {
   "cell_type": "code",
   "execution_count": null,
   "id": "0c134c2d",
   "metadata": {},
   "outputs": [],
   "source": [
    "df.to_csv('data/MAPS_locales_procesado.csv', index=False)"
   ]
  },
  {
   "cell_type": "markdown",
   "id": "5caf653f",
   "metadata": {},
   "source": [
    "### Paso 2: Crear métrica de éxito del negocio\n",
    "Se calcula una puntuación ponderada que penaliza los negocios con pocas reseñas usando la fórmula sugerida por el profesor."
   ]
  },
  {
   "cell_type": "code",
   "execution_count": null,
   "id": "5662b451",
   "metadata": {},
   "outputs": [],
   "source": [
    "import numpy as np\n",
    "\n",
    "df['valoracion'] = df.apply(\n",
    "    lambda row: row['puntuacion_media'] * (1 - np.exp(-row['numero_reviews'] / 10)), axis=1\n",
    ")"
   ]
  },
  {
   "cell_type": "markdown",
   "id": "6d5d9292",
   "metadata": {},
   "source": [
    "### Paso 3: Normalización de valoraciones por tipo de negocio\n",
    "La métrica de éxito se normaliza dentro de cada categoría de negocio para que los valores estén entre 0 y 1."
   ]
  },
  {
   "cell_type": "code",
   "execution_count": null,
   "id": "c25a138d",
   "metadata": {},
   "outputs": [],
   "source": [
    "\n",
    "from sklearn.preprocessing import MinMaxScaler\n",
    "\n",
    "df['valoracion_norm'] = df.groupby('categoria_negocio')['valoracion'].transform(\n",
    "    lambda x: MinMaxScaler().fit_transform(x.values.reshape(-1, 1)).flatten()\n",
    ")\n"
   ]
  },
  {
   "cell_type": "markdown",
   "id": "d5eced1a",
   "metadata": {},
   "source": [
    "### Paso 4: Visualización geoespacial del éxito de los negocios\n",
    "Se crea un mapa de calor utilizando la puntuación normalizada para observar zonas con mayor concentración de negocios exitosos."
   ]
  },
  {
   "cell_type": "code",
   "execution_count": null,
   "id": "ee764fab",
   "metadata": {},
   "outputs": [],
   "source": [
    "import folium\n",
    "from folium import plugins\n",
    "import branca.colormap as cm\n",
    "\n",
    "colormap = cm.LinearColormap(['red', 'orange', 'green'], vmin=1, vmax=5)\n",
    "colormap.caption = 'Valoración de los negocios'\n",
    "\n",
    "mapa = folium.Map(\n",
    "    location=[df['latitud'].mean(), df['longitud'].mean()], \n",
    "    zoom_start=13,\n",
    "    tiles='CartoDB.VoyagerLabelsUnder'  # Estilos --> https://leaflet-extras.github.io/leaflet-providers/preview/\n",
    "    )\n",
    "\n",
    "\n",
    "# Añadir MiniMap\n",
    "plugins.MiniMap().add_to(mapa)\n",
    "\n",
    "# Añadir marcadores como nube de puntos\n",
    "for _, row in df.iterrows():\n",
    "    color = colormap(row['valoracion'])\n",
    "    folium.CircleMarker(\n",
    "        location=[row['latitud'], row['longitud']],\n",
    "        radius=6,\n",
    "        color=color,\n",
    "        fill=True,\n",
    "        fill_color=color,\n",
    "        fill_opacity=0.6,\n",
    "        popup=f\"{row['nombre']} ({row['valoracion']:.1f})\"\n",
    "    ).add_to(mapa)\n",
    "\n",
    "colormap.add_to(mapa)\n",
    "\n",
    "mapa"
   ]
  },
  {
   "cell_type": "code",
   "execution_count": null,
   "id": "619232a1",
   "metadata": {},
   "outputs": [],
   "source": [
    "import folium\n",
    "from folium.plugins import HeatMap, MiniMap\n",
    "import branca.colormap as cm\n",
    "\n",
    "# Crear el mapa base\n",
    "mapa_densidad = folium.Map(\n",
    "    location=[df['latitud'].mean(), df['longitud'].mean()],\n",
    "    zoom_start=13,\n",
    "    tiles='CartoDB.VoyagerLabelsUnder'\n",
    ")\n",
    "\n",
    "# Añadir el MiniMap\n",
    "MiniMap().add_to(mapa_densidad)\n",
    "\n",
    "# Preparar datos para el mapa de calor (sin valoración)\n",
    "heat_data = [[row['latitud'], row['longitud']] for index, row in df.iterrows()]\n",
    "\n",
    "# Añadir el mapa de calor\n",
    "HeatMap(\n",
    "    heat_data,\n",
    "    radius=15,\n",
    "    blur=12,\n",
    "    min_opacity=0.3,\n",
    "    max_zoom=1\n",
    ").add_to(mapa_densidad)\n",
    "\n",
    "# Crear una leyenda simple de densidad\n",
    "colormap = cm.LinearColormap(\n",
    "    colors=['lightblue', 'orange', 'red'],\n",
    "    index=[0, 0.5, 1],\n",
    "    vmin=0,\n",
    "    vmax=1\n",
    ")\n",
    "colormap.caption = 'Densidad de negocios (baja a alta)'\n",
    "colormap.add_to(mapa_densidad)\n",
    "\n",
    "# Mostrar el mapa\n",
    "mapa_densidad"
   ]
  },
  {
   "cell_type": "markdown",
   "id": "5c05f709",
   "metadata": {},
   "source": [
    "### Paso 5: Clustering geoespacial con DBSCAN\n",
    "Se aplica DBSCAN para identificar agrupaciones de zonas con negocios exitosos y etiquetar los puntos con un número de clúster."
   ]
  },
  {
   "cell_type": "code",
   "execution_count": null,
   "id": "c71edfe9",
   "metadata": {},
   "outputs": [],
   "source": [
    "\n",
    "from sklearn.cluster import DBSCAN\n",
    "from sklearn.preprocessing import StandardScaler\n",
    "\n",
    "coords = df[['latitud', 'longitud']].values\n",
    "coords_scaled = StandardScaler().fit_transform(coords)\n",
    "db = DBSCAN(eps=0.3, min_samples=10).fit(coords_scaled)\n",
    "df['cluster'] = db.labels_\n"
   ]
  },
  {
   "cell_type": "markdown",
   "id": "e3dc5672",
   "metadata": {},
   "source": [
    "### 🌍 PASO 6: INCORPORAR VARIABLES EXTERNAS\n"
   ]
  },
  {
   "cell_type": "code",
   "execution_count": null,
   "id": "124099f2",
   "metadata": {},
   "outputs": [
    {
     "ename": "ModuleNotFoundError",
     "evalue": "No module named 'geopandas'",
     "output_type": "error",
     "traceback": [
      "\u001b[0;31m---------------------------------------------------------------------------\u001b[0m",
      "\u001b[0;31mModuleNotFoundError\u001b[0m                       Traceback (most recent call last)",
      "Cell \u001b[0;32mIn[2], line 1\u001b[0m\n\u001b[0;32m----> 1\u001b[0m \u001b[38;5;28;01mimport\u001b[39;00m \u001b[38;5;21;01mgeopandas\u001b[39;00m \u001b[38;5;28;01mas\u001b[39;00m \u001b[38;5;21;01mgpd\u001b[39;00m\n\u001b[1;32m      2\u001b[0m \u001b[38;5;28;01mimport\u001b[39;00m \u001b[38;5;21;01mpandas\u001b[39;00m \u001b[38;5;28;01mas\u001b[39;00m \u001b[38;5;21;01mpd\u001b[39;00m\n\u001b[1;32m      3\u001b[0m \u001b[38;5;28;01mimport\u001b[39;00m \u001b[38;5;21;01mfolium\u001b[39;00m\n",
      "\u001b[0;31mModuleNotFoundError\u001b[0m: No module named 'geopandas'"
     ]
    }
   ],
   "source": [
    "import geopandas as gpd\n",
    "import pandas as pd\n",
    "import folium\n",
    "from folium.plugins import MiniMap\n",
    "import branca.colormap as cm\n",
    "from shapely.geometry import Point\n",
    "\n",
    "# 1. Cargar el shapefile de barrios de Madrid\n",
    "gdf_barrios = gpd.read_file('/data/Barrios/BARRIOS.shp')\n",
    "\n",
    "# 2. Convertir tu DataFrame df en GeoDataFrame\n",
    "gdf_negocios = gpd.GeoDataFrame(df, geometry=gpd.points_from_xy(df.longitud, df.latitud), crs='EPSG:4326')\n",
    "\n",
    "# 3. Unión espacial para asignar barrio a cada negocio\n",
    "gdf_completo = gpd.sjoin(gdf_negocios, gdf_barrios, how='left', predicate='within')\n",
    "\n",
    "# 4. Contar negocios por barrio (usando la columna 'NOMBRE')\n",
    "conteo = gdf_completo.groupby('NOMBRE').size().reset_index(name='num_negocios')\n",
    "gdf_barrios = gdf_barrios.merge(conteo, on='NOMBRE', how='left')\n",
    "gdf_barrios['num_negocios'] = gdf_barrios['num_negocios'].fillna(0)\n",
    "\n",
    "# 5. Normalizar la densidad\n",
    "gdf_barrios['densidad_norm'] = (\n",
    "    gdf_barrios['num_negocios'] - gdf_barrios['num_negocios'].min()\n",
    ") / (\n",
    "    gdf_barrios['num_negocios'].max() - gdf_barrios['num_negocios'].min()\n",
    ")\n",
    "\n",
    "# 6. Crear el mapa\n",
    "mapa_barrios = folium.Map(\n",
    "    location=[df['latitud'].mean(), df['longitud'].mean()],\n",
    "    zoom_start=12,\n",
    "    tiles='CartoDB.VoyagerLabelsUnder'\n",
    ")\n",
    "\n",
    "# 7. Añadir MiniMap\n",
    "MiniMap().add_to(mapa_barrios)\n",
    "\n",
    "# 8. Leyenda de colores\n",
    "colormap = cm.LinearColormap(['lightblue', 'orange', 'red'], vmin=0, vmax=1)\n",
    "colormap.caption = 'Densidad normalizada de negocios por barrio'\n",
    "colormap.add_to(mapa_barrios)\n",
    "\n",
    "# 9. Dibujar polígonos de barrios\n",
    "folium.GeoJson(\n",
    "    gdf_barrios,\n",
    "    name=\"Barrios por densidad\",\n",
    "    style_function=lambda feature: {\n",
    "        'fillColor': colormap(feature['properties']['densidad_norm']),\n",
    "        'color': 'black',\n",
    "        'weight': 0.7,\n",
    "        'fillOpacity': 0.6,\n",
    "    },\n",
    "    tooltip=folium.GeoJsonTooltip(\n",
    "        fields=[\"NOMBRE\", \"num_negocios\"],\n",
    "        aliases=[\"Barrio\", \"Nº negocios\"],\n",
    "        localize=True\n",
    "    )\n",
    ").add_to(mapa_barrios)\n",
    "\n",
    "# 10. Mostrar mapa\n",
    "mapa_barrios"
   ]
  }
 ],
 "metadata": {
  "kernelspec": {
   "display_name": "evolve",
   "language": "python",
   "name": "python3"
  },
  "language_info": {
   "codemirror_mode": {
    "name": "ipython",
    "version": 3
   },
   "file_extension": ".py",
   "mimetype": "text/x-python",
   "name": "python",
   "nbconvert_exporter": "python",
   "pygments_lexer": "ipython3",
   "version": "3.11.11"
  }
 },
 "nbformat": 4,
 "nbformat_minor": 5
}
