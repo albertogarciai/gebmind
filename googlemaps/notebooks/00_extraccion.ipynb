{
 "cells": [
  {
   "cell_type": "markdown",
   "id": "f0604b38",
   "metadata": {},
   "source": [
    "# 00_extraccion.ipynb\n",
    "\n",
    "Este notebook extrae los datos raw desde Overpass API y Google Places API."
   ]
  },
  {
   "cell_type": "markdown",
   "id": "99fdf371",
   "metadata": {},
   "source": [
    "## 1. Configuración"
   ]
  },
  {
   "cell_type": "code",
   "execution_count": null,
   "id": "9f56b312",
   "metadata": {},
   "outputs": [],
   "source": [
    "import os\n",
    "import pandas as pd\n",
    "import requests\n",
    "\n",
    "OVERPASS_URL = os.getenv('OVERPASS_API_URL', 'http://overpass-api.de/api/interpreter')\n",
    "OUTPUT_CSV = 'googlemaps/data/locales_todos.csv'\n"
   ]
  },
  {
   "cell_type": "markdown",
   "id": "c164db8c",
   "metadata": {},
   "source": [
    "## 2. Extracción con Overpass API"
   ]
  },
  {
   "cell_type": "code",
   "execution_count": null,
   "id": "3a1ec443",
   "metadata": {},
   "outputs": [],
   "source": [
    "query = \"\"\"\n",
    "[out:json][timeout:60];\n",
    "area[\"name\"=\"Madrid\"]->.searchArea;\n",
    "(\n",
    "  node[\"shop\"](area.searchArea);\n",
    "  node[\"amenity\"](area.searchArea);\n",
    ");\n",
    "out body;\n",
    "\"\"\"\n",
    "\n",
    "resp = requests.post(OVERPASS_URL, data={'data': query})\n",
    "data = resp.json()\n",
    "\n",
    "records = []\n",
    "for elem in data['elements']:\n",
    "    tags = elem.get('tags', {})\n",
    "    records.append({\n",
    "        'id_local': elem['id'],\n",
    "        'latitud': elem.get('lat'),\n",
    "        'longitud': elem.get('lon'),\n",
    "        'nombre': tags.get('name', ''),\n",
    "        'categoria_tags': tags.get('shop') or tags.get('amenity') or 'desconocido'\n",
    "    })\n",
    "\n",
    "df_raw = pd.DataFrame(records)\n",
    "os.makedirs(os.path.dirname(OUTPUT_CSV), exist_ok=True)\n",
    "df_raw.to_csv(OUTPUT_CSV, index=False)\n",
    "print(f\"Guardados {len(df_raw)} registros en {OUTPUT_CSV}\")"
   ]
  }
 ],
 "metadata": {},
 "nbformat": 4,
 "nbformat_minor": 5
}
