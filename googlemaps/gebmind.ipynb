{
 "cells": [
  {
   "cell_type": "markdown",
   "id": "3ed5eb57",
   "metadata": {},
   "source": [
    "# 📍 Geolocalizador de Negocios por Código Postal\n",
    "Este notebook permite consultar negocios por código postal usando la API de Google Places y visualizar los resultados en un mapa interactivo con Folium."
   ]
  },
  {
   "cell_type": "markdown",
   "id": "1a9687fd",
   "metadata": {},
   "source": [
    "## 🔧 Instalación de dependencias"
   ]
  },
  {
   "cell_type": "code",
   "execution_count": null,
   "id": "318d9288",
   "metadata": {},
   "outputs": [],
   "source": [
    "!pip install pandas requests python-dotenv folium"
   ]
  },
  {
   "cell_type": "markdown",
   "id": "2b54d264",
   "metadata": {},
   "source": [
    "## 🔑 Configurar clave de API"
   ]
  },
  {
   "cell_type": "code",
   "execution_count": null,
   "id": "aa0d7b1c",
   "metadata": {},
   "outputs": [],
   "source": [
    "\n",
    "import os\n",
    "from dotenv import load_dotenv\n",
    "\n",
    "# Carga clave desde .env o asignación directa temporal\n",
    "load_dotenv()\n",
    "API_KEY = os.getenv(\"GOOGLE_API_KEY\", \"TU_API_KEY_AQUI\")\n"
   ]
  },
  {
   "cell_type": "markdown",
   "id": "316ed5b0",
   "metadata": {},
   "source": [
    "## ⚙️ Funciones auxiliares"
   ]
  },
  {
   "cell_type": "code",
   "execution_count": null,
   "id": "91917dde",
   "metadata": {},
   "outputs": [],
   "source": [
    "\n",
    "import requests\n",
    "import pandas as pd\n",
    "import time\n",
    "\n",
    "def get_coordinates(postal_code, country='ES'):\n",
    "    url = \"https://maps.googleapis.com/maps/api/geocode/json\"\n",
    "    params = {'address': f'{postal_code}, {country}', 'key': API_KEY}\n",
    "    response = requests.get(url, params=params).json()\n",
    "    if response['status'] != 'OK':\n",
    "        raise ValueError(f\"Error al obtener coordenadas para {postal_code}\")\n",
    "    location = response['results'][0]['geometry']['location']\n",
    "    return location['lat'], location['lng']\n",
    "\n",
    "def get_places(lat, lng, radius=2000, business_type=None):\n",
    "    places = []\n",
    "    url = \"https://maps.googleapis.com/maps/api/place/nearbysearch/json\"\n",
    "    params = {\n",
    "        'location': f'{lat},{lng}',\n",
    "        'radius': radius,\n",
    "        'key': API_KEY,\n",
    "        'type': business_type\n",
    "    }\n",
    "\n",
    "    while True:\n",
    "        res = requests.get(url, params=params).json()\n",
    "        places.extend(res.get('results', []))\n",
    "        if 'next_page_token' in res:\n",
    "            time.sleep(2)\n",
    "            params['pagetoken'] = res['next_page_token']\n",
    "        else:\n",
    "            break\n",
    "\n",
    "    return places\n",
    "\n",
    "def clean_data(places, postal_code):\n",
    "    data = []\n",
    "    for p in places:\n",
    "        location = p.get('geometry', {}).get('location', {})\n",
    "        data.append({\n",
    "            'nombre': p.get('name'),\n",
    "            'direccion': p.get('vicinity'),\n",
    "            'codigo_postal': postal_code,\n",
    "            'puntuacion_media': p.get('rating'),\n",
    "            'numero_reviews': p.get('user_ratings_total'),\n",
    "            'tipo_negocio': ', '.join(p.get('types', [])),\n",
    "            'latitud': location.get('lat'),\n",
    "            'longitud': location.get('lng')\n",
    "        })\n",
    "    return pd.DataFrame(data)\n"
   ]
  },
  {
   "cell_type": "markdown",
   "id": "bf1564ab",
   "metadata": {},
   "source": [
    "## 📦 Consultar locales y exportar CSV"
   ]
  },
  {
   "cell_type": "code",
   "execution_count": null,
   "id": "784381fd",
   "metadata": {},
   "outputs": [],
   "source": [
    "\n",
    "codigos_postales = ['28001', '28002', '28003', '28004', '28005', '28006', '28007', '28008', '28009', '28010', '28011', '28012', '28013', '28014', '28015', '28016', '28017', '28018', '28019', '28020', '28021', '28022', '28023', '28024', '28025', '28026', '28027', '28028', '28029', '28030', '28031', '28032', '28033', '28034', '28035', '28036', '28037', '28038', '28039', '28040', '28041', '28042', '28043', '28044', '28045', '28046', '28047', '28048', '28049', '28050', '28051', '28052', '28053', '28054', '28055']\n",
    "tipo_negocio = None  # Ej. 'restaurant', 'store', etc.\n",
    "\n",
    "todos_los_locales = pd.DataFrame()\n",
    "\n",
    "for cp in codigos_postales:\n",
    "    try:\n",
    "        lat, lng = get_coordinates(cp)\n",
    "        lugares = get_places(lat, lng, business_type=tipo_negocio)\n",
    "        df = clean_data(lugares, cp)\n",
    "        todos_los_locales = pd.concat([todos_los_locales, df], ignore_index=True)\n",
    "        print(f\"✅ {len(df)} locales encontrados en {cp}\")\n",
    "    except Exception as e:\n",
    "        print(f\"⚠️ Error con código postal {cp}: {e}\")\n",
    "\n",
    "# Si se especifica tipo de negocio, úsalo en el nombre del archivo\n",
    "nombre_tipo = tipo_negocio if tipo_negocio else \"todos\"\n",
    "output_file = f\"locales_{nombre_tipo}.csv\"\n",
    "\n",
    "todos_los_locales.to_csv(output_file, index=False)\n",
    "print(f\"\\n✅ Archivo '{output_file}' generado exitosamente.\")"
   ]
  },
  {
   "cell_type": "markdown",
   "id": "102afc9b",
   "metadata": {},
   "source": [
    "## 🗺️ Visualizar resultados en mapa interactivo"
   ]
  },
  {
   "cell_type": "code",
   "execution_count": null,
   "id": "fe96c381",
   "metadata": {},
   "outputs": [],
   "source": [
    "\n",
    "import folium\n",
    "\n",
    "df = pd.read_csv(\"locales.csv\")\n",
    "df = df.dropna(subset=['latitud', 'longitud'])\n",
    "\n",
    "mapa = folium.Map(location=[df['latitud'].mean(), df['longitud'].mean()], zoom_start=13)\n",
    "\n",
    "for _, row in df.iterrows():\n",
    "    popup_text = f\"\"\"\n",
    "    <b>{row['nombre']}</b><br>\n",
    "    Dirección: {row['direccion']}<br>\n",
    "    Rating: {row['puntuacion_media']} ({row['numero_reviews']} reseñas)<br>\n",
    "    Tipo: {row['tipo_negocio']}\n",
    "    \"\"\"\n",
    "    folium.Marker(\n",
    "        location=[row['latitud'], row['longitud']],\n",
    "        popup=folium.Popup(popup_text, max_width=300),\n",
    "        tooltip=row['nombre']\n",
    "    ).add_to(mapa)\n",
    "\n",
    "mapa.save(\"mapa_locales.html\")\n",
    "mapa\n"
   ]
  },
  {
   "cell_type": "markdown",
   "id": "9dc2184a",
   "metadata": {},
   "source": [
    "### Categorización de tipos de negocio\n",
    "En esta sección se analiza la columna `tipo_negocio` del archivo `locales_todos.csv` para agrupar los locales en 6 categorías generales:\n",
    "- **Restauración**\n",
    "- **Alojamiento**\n",
    "- **Religión / Culto**\n",
    "- **Administración / Localidad**\n",
    "- **Comercio / Servicios**\n",
    "- **Otros / No categorizado**\n",
    "Esto se realiza mediante una función que evalúa palabras clave en cada tipo de negocio y asigna una categoría correspondiente.\n",
    "\n",
    "### Categorización mejorada de tipos de negocio\n",
    "Se han identificado subtipos frecuentes dentro de la categoría 'Otros / No categorizado' y se han creado nuevas agrupaciones:\n",
    "- **Educación**\n",
    "- **Salud**\n",
    "- **Finanzas y Seguros**\n",
    "- **Construcción / Reformas**\n",
    "- **Naturaleza / Recreación**\n",
    "- **Turismo / Atracción**\n",
    "Esto reduce significativamente el número de registros sin categorizar y mejora la calidad del dataset para futuros modelos de Machine Learning."
   ]
  },
  {
   "cell_type": "code",
   "execution_count": null,
   "id": "6c8e3e8d",
   "metadata": {},
   "outputs": [],
   "source": [
    "import pandas as pd\n",
    "\n",
    "df = pd.read_csv('locales_todos.csv')\n",
    "\n",
    "def categorizar_negocio(tipo_str):\n",
    "    tipo_str = str(tipo_str).lower()\n",
    "    if any(t in tipo_str for t in ['restaurant', 'food', 'bar', 'cafe', 'bakery', 'meal_takeaway']):\n",
    "        return 'Restauración'\n",
    "    elif any(t in tipo_str for t in ['lodging', 'hotel', 'hostel', 'guest_house']):\n",
    "        return 'Alojamiento'\n",
    "    elif any(t in tipo_str for t in ['church', 'place_of_worship', 'mosque', 'synagogue', 'hindu_temple']):\n",
    "        return 'Religión / Culto'\n",
    "    elif any(t in tipo_str for t in ['locality', 'political', 'city_hall', 'post_office', 'courthouse', 'embassy', 'local_government_office']):\n",
    "        return 'Administración / Localidad'\n",
    "    elif any(t in tipo_str for t in ['store', 'shopping_mall', 'hair_care', 'bank', 'car_repair', 'laundry', 'gym', 'pharmacy', 'doctor', 'real_estate_agency']):\n",
    "        return 'Comercio / Servicios'\n",
    "    elif any(t in tipo_str for t in ['school', 'university', 'secondary_school']):\n",
    "        return 'Educación'\n",
    "    elif any(t in tipo_str for t in ['health']):\n",
    "        return 'Salud'\n",
    "    elif any(t in tipo_str for t in ['finance', 'insurance_agency']):\n",
    "        return 'Finanzas y Seguros'\n",
    "    elif any(t in tipo_str for t in ['general_contractor']):\n",
    "        return 'Construcción / Reformas'\n",
    "    elif any(t in tipo_str for t in ['park']):\n",
    "        return 'Naturaleza / Recreación'\n",
    "    elif any(t in tipo_str for t in ['tourist_attraction']):\n",
    "        return 'Turismo / Atracción'\n",
    "    else:\n",
    "        return 'Otros / No categorizado'\n",
    "\n",
    "df['categoria_negocio'] = df['tipo_negocio'].apply(categorizar_negocio)\n",
    "df.to_csv('locales_categorizados.csv', index=False)\n"
   ]
  },
  {
   "cell_type": "markdown",
   "id": "896f6d60",
   "metadata": {},
   "source": [
    "### 🔍 1.1 - Añadir detección de negocio por nombre\n",
    "\n",
    "Ahora que tienes una categorización robusta por tipo_negocio, puedes mejorar la clasificación usando el campo nombre para los que aún están en “Otros”. Por ejemplo:"
   ]
  },
  {
   "cell_type": "code",
   "execution_count": null,
   "id": "1b078ed6",
   "metadata": {},
   "outputs": [],
   "source": [
    "def clasificar_por_nombre(nombre, tipo_actual):\n",
    "    nombre = str(nombre).lower()\n",
    "    if tipo_actual == 'Otros / No categorizado':\n",
    "        if 'bar' in nombre: return 'Restauración'\n",
    "        if 'peluquería' in nombre or 'hair' in nombre: return 'Comercio / Servicios'\n",
    "        if 'taller' in nombre or 'auto' in nombre: return 'Comercio / Servicios'\n",
    "        # ... y así puedes mejorar hasta un 20% más de casos\n",
    "    return tipo_actual\n",
    "\n",
    "df['categoria_negocio'] = df.apply(lambda row: clasificar_por_nombre(row['nombre'], row['categoria_negocio']), axis=1)"
   ]
  },
  {
   "cell_type": "markdown",
   "id": "49e74663",
   "metadata": {},
   "source": [
    "### 🎯 1.2 - Filtrar outliers\n",
    "\n",
    "Elimina negocios con:\n",
    "\t•\tpuntuacion_media nula o 0\n",
    "\t•\tnumero_reviews muy bajo (ej. < 3)\n",
    "Esto limpia el ruido antes de entrenar modelos o hacer visualizaciones."
   ]
  },
  {
   "cell_type": "code",
   "execution_count": null,
   "id": "e073983e",
   "metadata": {},
   "outputs": [],
   "source": [
    "df = df[df['puntuacion_media'].notna() & (df['numero_reviews'] >= 3)]"
   ]
  },
  {
   "cell_type": "markdown",
   "id": "1629c26e",
   "metadata": {},
   "source": [
    "### 📦 1.3 - Guardar checkpoint de trabajo\n",
    "\n",
    "Para no repetir procesos:"
   ]
  },
  {
   "cell_type": "code",
   "execution_count": null,
   "id": "0c134c2d",
   "metadata": {},
   "outputs": [],
   "source": [
    "df.to_csv('locales_procesado.csv', index=False)"
   ]
  },
  {
   "cell_type": "markdown",
   "id": "5caf653f",
   "metadata": {},
   "source": [
    "### Paso 2: Crear métrica de éxito del negocio\n",
    "Se calcula una puntuación ponderada que penaliza los negocios con pocas reseñas usando la fórmula sugerida por el profesor."
   ]
  },
  {
   "cell_type": "code",
   "execution_count": null,
   "id": "5662b451",
   "metadata": {},
   "outputs": [],
   "source": [
    "\n",
    "import numpy as np\n",
    "\n",
    "df['valoracion'] = df.apply(\n",
    "    lambda row: row['puntuacion_media'] * (1 - np.exp(-row['numero_reviews'] / 10)), axis=1\n",
    ")\n"
   ]
  },
  {
   "cell_type": "markdown",
   "id": "6d5d9292",
   "metadata": {},
   "source": [
    "### Paso 3: Normalización de valoraciones por tipo de negocio\n",
    "La métrica de éxito se normaliza dentro de cada categoría de negocio para que los valores estén entre 0 y 1."
   ]
  },
  {
   "cell_type": "code",
   "execution_count": null,
   "id": "c25a138d",
   "metadata": {},
   "outputs": [],
   "source": [
    "\n",
    "from sklearn.preprocessing import MinMaxScaler\n",
    "\n",
    "df['valoracion_norm'] = df.groupby('categoria_negocio')['valoracion'].transform(\n",
    "    lambda x: MinMaxScaler().fit_transform(x.values.reshape(-1, 1)).flatten()\n",
    ")\n"
   ]
  },
  {
   "cell_type": "markdown",
   "id": "d5eced1a",
   "metadata": {},
   "source": [
    "### Paso 4: Visualización geoespacial del éxito de los negocios\n",
    "Se crea un mapa de calor utilizando la puntuación normalizada para observar zonas con mayor concentración de negocios exitosos."
   ]
  },
  {
   "cell_type": "code",
   "execution_count": null,
   "id": "ee764fab",
   "metadata": {},
   "outputs": [],
   "source": [
    "\n",
    "import folium\n",
    "from folium.plugins import HeatMap\n",
    "\n",
    "mapa = folium.Map(location=[df.latitud.mean(), df.longitud.mean()], zoom_start=13)\n",
    "heat_data = [[row['latitud'], row['longitud'], row['valoracion_norm']] for index, row in df.iterrows()]\n",
    "HeatMap(heat_data, radius=15).add_to(mapa)\n",
    "mapa\n"
   ]
  },
  {
   "cell_type": "markdown",
   "id": "5c05f709",
   "metadata": {},
   "source": [
    "### Paso 5: Clustering geoespacial con DBSCAN\n",
    "Se aplica DBSCAN para identificar agrupaciones de zonas con negocios exitosos y etiquetar los puntos con un número de clúster."
   ]
  },
  {
   "cell_type": "code",
   "execution_count": null,
   "id": "c71edfe9",
   "metadata": {},
   "outputs": [],
   "source": [
    "\n",
    "from sklearn.cluster import DBSCAN\n",
    "from sklearn.preprocessing import StandardScaler\n",
    "\n",
    "coords = df[['latitud', 'longitud']].values\n",
    "coords_scaled = StandardScaler().fit_transform(coords)\n",
    "db = DBSCAN(eps=0.3, min_samples=10).fit(coords_scaled)\n",
    "df['cluster'] = db.labels_\n"
   ]
  },
  {
   "cell_type": "markdown",
   "id": "e3dc5672",
   "metadata": {},
   "source": [
    "### 🌍 PASO 6: INCORPORAR VARIABLES EXTERNAS\n"
   ]
  },
  {
   "cell_type": "code",
   "execution_count": null,
   "id": "124099f2",
   "metadata": {},
   "outputs": [],
   "source": [
    "import geopandas as gpd\n",
    "from shapely.geometry import Point\n",
    "\n",
    "# Crear GeoDataFrame desde tu CSV\n",
    "gdf_negocios = gpd.GeoDataFrame(df, geometry=gpd.points_from_xy(df.longitud, df.latitud), crs='EPSG:4326')\n",
    "\n",
    "# Cargar shapefile con datos de renta, edad, etc.\n",
    "gdf_zonas = gpd.read_file('zonas_madrid.shp')  # o .geojson o .gpkg\n",
    "\n",
    "# Unión espacial: asignar cada negocio a su zona\n",
    "gdf_completo = gpd.sjoin(gdf_negocios, gdf_zonas, how='left', predicate='within')"
   ]
  }
 ],
 "metadata": {
  "kernelspec": {
   "display_name": "evolve",
   "language": "python",
   "name": "python3"
  },
  "language_info": {
   "codemirror_mode": {
    "name": "ipython",
    "version": 3
   },
   "file_extension": ".py",
   "mimetype": "text/x-python",
   "name": "python",
   "nbconvert_exporter": "python",
   "pygments_lexer": "ipython3",
   "version": "3.11.11"
  }
 },
 "nbformat": 4,
 "nbformat_minor": 5
}
